{
 "cells": [
  {
   "cell_type": "markdown",
   "id": "f92fe637-25fb-4d1c-aab1-9b608bad6f4d",
   "metadata": {},
   "source": [
    "## Model Training"
   ]
  },
  {
   "cell_type": "markdown",
   "id": "5285a0e1-36a8-4b53-ab79-0add729715db",
   "metadata": {},
   "source": [
    "### Spark Session Setup"
   ]
  },
  {
   "cell_type": "code",
   "execution_count": 1,
   "id": "ead2d3c8-5710-48b1-ba06-40e7111014e8",
   "metadata": {},
   "outputs": [],
   "source": [
    "import findspark\n",
    "\n",
    "findspark.init()"
   ]
  },
  {
   "cell_type": "code",
   "execution_count": 2,
   "id": "1b1c656e-51c7-417c-9121-f899aae6ea76",
   "metadata": {},
   "outputs": [
    {
     "name": "stderr",
     "output_type": "stream",
     "text": [
      "Setting default log level to \"WARN\".\n",
      "To adjust logging level use sc.setLogLevel(newLevel). For SparkR, use setLogLevel(newLevel).\n",
      "25/03/23 17:24:29 WARN NativeCodeLoader: Unable to load native-hadoop library for your platform... using builtin-java classes where applicable\n",
      "25/03/23 17:24:30 WARN Utils: Service 'SparkUI' could not bind on port 4040. Attempting port 4041.\n"
     ]
    }
   ],
   "source": [
    "from pyspark.sql import SparkSession\n",
    "\n",
    "spark = SparkSession.builder.appName('modelTraining').getOrCreate()"
   ]
  },
  {
   "cell_type": "code",
   "execution_count": 4,
   "id": "e1475d7e-21bf-4cac-a576-49a9b3aa65dd",
   "metadata": {},
   "outputs": [
    {
     "name": "stderr",
     "output_type": "stream",
     "text": [
      "                                                                                "
     ]
    }
   ],
   "source": [
    "#data loading will change once data is hosted on hadoop? loading from local for now\n",
    "from pyspark import SparkFiles\n",
    "df = spark.read.parquet('prepped_data.parquet')"
   ]
  },
  {
   "cell_type": "markdown",
   "id": "5ea52d8e-7606-4137-9762-3677f46c6c2e",
   "metadata": {},
   "source": [
    "### Train Test Split"
   ]
  },
  {
   "cell_type": "code",
   "execution_count": 5,
   "id": "489acd23-1ca4-42cd-b2b3-fa02dd7197c9",
   "metadata": {},
   "outputs": [],
   "source": [
    "train_data, test_data = df.randomSplit([0.7, 0.3], seed = 101)"
   ]
  },
  {
   "cell_type": "markdown",
   "id": "d6e11186-80f1-46bd-b71c-bdc57a9e397d",
   "metadata": {},
   "source": [
    "### Model Importing and Setup"
   ]
  },
  {
   "cell_type": "code",
   "execution_count": 13,
   "id": "dc74e917-c271-4aef-a8bb-db11b787a9c8",
   "metadata": {},
   "outputs": [],
   "source": [
    "#import models\n",
    "from pyspark.ml.classification import NaiveBayes\n",
    "from pyspark.ml.classification import RandomForestClassifier\n",
    "\n",
    "#set up models with default settings\n",
    "nb = NaiveBayes()\n",
    "rf = RandomForestClassifier(seed = 101)"
   ]
  },
  {
   "cell_type": "code",
   "execution_count": 14,
   "id": "cdabdbf2-909a-46b0-bc77-45c4a29945ab",
   "metadata": {},
   "outputs": [],
   "source": [
    "#eval set up\n",
    "from pyspark.ml.evaluation import BinaryClassificationEvaluator\n",
    "\n",
    "acc_evaluator = BinaryClassificationEvaluator()"
   ]
  },
  {
   "cell_type": "markdown",
   "id": "8c37c854-9a7d-4ed8-a02f-87c318f0adf7",
   "metadata": {},
   "source": [
    "### Hyperparameter Tuning"
   ]
  },
  {
   "cell_type": "code",
   "execution_count": 15,
   "id": "29c5a144-450a-4898-8597-e86ddbbdce1d",
   "metadata": {},
   "outputs": [],
   "source": [
    "from pyspark.ml.tuning import CrossValidator, ParamGridBuilder\n",
    "\n",
    "#naive bayes\n",
    "grid = ParamGridBuilder().addGrid(nb.smoothing, [0.0, 0.25, 0.5, 0.75, 1.0, 1.25, 1.5]).build()\n",
    "nb_cv = CrossValidator(estimator = nb, estimatorParamMaps = grid, evaluator = acc_evaluator, numFolds = 5, parallelism = 4)\n",
    "\n",
    "grid = ParamGridBuilder().addGrid(rf.numTrees, range(10, 60, 10)).addGrid(rf.maxDepth, range(1, 11)).build()\n",
    "rf_cv = CrossValidator(estimator = rf, estimatorParamMaps = grid, evaluator = acc_evaluator, numFolds = 5, parallelism = 4)"
   ]
  },
  {
   "cell_type": "code",
   "execution_count": 17,
   "id": "5b25efe4-dcfc-4e71-9247-9d0824f37c9f",
   "metadata": {},
   "outputs": [
    {
     "name": "stderr",
     "output_type": "stream",
     "text": [
      "25/03/23 17:45:22 WARN DAGScheduler: Broadcasting large task binary with size 1098.0 KiB\n",
      "25/03/23 17:45:27 WARN DAGScheduler: Broadcasting large task binary with size 1057.1 KiB\n",
      "25/03/23 17:45:28 WARN DAGScheduler: Broadcasting large task binary with size 1057.1 KiB\n",
      "25/03/23 17:45:29 WARN DAGScheduler: Broadcasting large task binary with size 1423.7 KiB\n",
      "25/03/23 17:45:34 WARN DAGScheduler: Broadcasting large task binary with size 1280.9 KiB\n",
      "25/03/23 17:45:35 WARN DAGScheduler: Broadcasting large task binary with size 1280.9 KiB\n",
      "25/03/23 17:45:35 WARN DAGScheduler: Broadcasting large task binary with size 1709.2 KiB\n",
      "25/03/23 17:45:35 WARN DAGScheduler: Broadcasting large task binary with size 1123.0 KiB\n",
      "25/03/23 17:45:49 WARN DAGScheduler: Broadcasting large task binary with size 1081.6 KiB\n",
      "25/03/23 17:45:54 WARN DAGScheduler: Broadcasting large task binary with size 1011.4 KiB\n",
      "25/03/23 17:45:55 WARN DAGScheduler: Broadcasting large task binary with size 1011.4 KiB\n",
      "25/03/23 17:45:56 WARN DAGScheduler: Broadcasting large task binary with size 1375.3 KiB\n",
      "25/03/23 17:46:01 WARN DAGScheduler: Broadcasting large task binary with size 1255.2 KiB\n",
      "25/03/23 17:46:01 WARN DAGScheduler: Broadcasting large task binary with size 1255.2 KiB\n",
      "25/03/23 17:46:02 WARN DAGScheduler: Broadcasting large task binary with size 1710.6 KiB\n",
      "25/03/23 17:46:02 WARN DAGScheduler: Broadcasting large task binary with size 1125.0 KiB\n",
      "25/03/23 17:46:16 WARN DAGScheduler: Broadcasting large task binary with size 1079.1 KiB\n",
      "25/03/23 17:46:20 WARN DAGScheduler: Broadcasting large task binary with size 1025.9 KiB\n",
      "25/03/23 17:46:21 WARN DAGScheduler: Broadcasting large task binary with size 1025.9 KiB\n",
      "25/03/23 17:46:21 WARN DAGScheduler: Broadcasting large task binary with size 1387.0 KiB\n",
      "25/03/23 17:46:26 WARN DAGScheduler: Broadcasting large task binary with size 1307.5 KiB\n",
      "25/03/23 17:46:27 WARN DAGScheduler: Broadcasting large task binary with size 1307.5 KiB\n",
      "25/03/23 17:46:27 WARN DAGScheduler: Broadcasting large task binary with size 1764.8 KiB\n",
      "25/03/23 17:46:28 WARN DAGScheduler: Broadcasting large task binary with size 1164.7 KiB\n",
      "25/03/23 17:46:41 WARN DAGScheduler: Broadcasting large task binary with size 1126.5 KiB\n",
      "25/03/23 17:46:45 WARN DAGScheduler: Broadcasting large task binary with size 1050.6 KiB\n",
      "25/03/23 17:46:46 WARN DAGScheduler: Broadcasting large task binary with size 1050.6 KiB\n",
      "25/03/23 17:46:47 WARN DAGScheduler: Broadcasting large task binary with size 1422.3 KiB\n",
      "25/03/23 17:46:51 WARN DAGScheduler: Broadcasting large task binary with size 1316.8 KiB\n",
      "25/03/23 17:46:52 WARN DAGScheduler: Broadcasting large task binary with size 1316.8 KiB\n",
      "25/03/23 17:46:52 WARN DAGScheduler: Broadcasting large task binary with size 1773.8 KiB\n",
      "25/03/23 17:46:53 WARN DAGScheduler: Broadcasting large task binary with size 1164.8 KiB\n",
      "25/03/23 17:47:05 WARN DAGScheduler: Broadcasting large task binary with size 1065.0 KiB\n",
      "25/03/23 17:47:09 WARN DAGScheduler: Broadcasting large task binary with size 1022.5 KiB\n",
      "25/03/23 17:47:10 WARN DAGScheduler: Broadcasting large task binary with size 1022.5 KiB\n",
      "25/03/23 17:47:11 WARN DAGScheduler: Broadcasting large task binary with size 1379.5 KiB\n",
      "25/03/23 17:47:15 WARN DAGScheduler: Broadcasting large task binary with size 1283.8 KiB\n",
      "25/03/23 17:47:16 WARN DAGScheduler: Broadcasting large task binary with size 1283.8 KiB\n",
      "25/03/23 17:47:16 WARN DAGScheduler: Broadcasting large task binary with size 1718.7 KiB\n",
      "25/03/23 17:47:16 WARN DAGScheduler: Broadcasting large task binary with size 1147.2 KiB\n",
      "25/03/23 17:47:18 WARN DAGScheduler: Broadcasting large task binary with size 1018.9 KiB\n",
      "25/03/23 17:47:18 WARN DAGScheduler: Broadcasting large task binary with size 1411.3 KiB\n"
     ]
    }
   ],
   "source": [
    "#run predictions\n",
    "nb_cv_model = nb_cv.fit(train_data)\n",
    "nb_cv_pred = nb_cv_model.transform(test_data)\n",
    "\n",
    "rf_cv_model = rf_cv.fit(train_data)\n",
    "rf_cv_pred = rf_cv_model.transform(test_data)"
   ]
  },
  {
   "cell_type": "code",
   "execution_count": 18,
   "id": "fef422b9-0370-48f1-8b9a-7e832f63cee8",
   "metadata": {},
   "outputs": [
    {
     "name": "stdout",
     "output_type": "stream",
     "text": [
      "NaiveBayesModel: uid=NaiveBayes_9cc25f474b1f, modelType=multinomial, numClasses=2, numFeatures=4\n",
      "Naive Bayes Accuracy: 0.44037054587969937\n",
      "RandomForestClassificationModel: uid=RandomForestClassifier_961a2d1fef5f, numTrees=40, numClasses=2, numFeatures=4\n",
      "Naive Bayes Accuracy: 0.9919906665359078\n"
     ]
    }
   ],
   "source": [
    "#results\n",
    "print(nb_cv_model.bestModel)\n",
    "\n",
    "nb_accuracy = acc_evaluator.evaluate(nb_cv_pred)\n",
    "print(f\"Naive Bayes Accuracy: {nb_accuracy}\")\n",
    "\n",
    "print(rf_cv_model.bestModel)\n",
    "\n",
    "rf_accuracy = acc_evaluator.evaluate(rf_cv_pred)\n",
    "print(f\"Naive Bayes Accuracy: {rf_accuracy}\")"
   ]
  }
 ],
 "metadata": {
  "kernelspec": {
   "display_name": "Python 3 (ipykernel)",
   "language": "python",
   "name": "python3"
  },
  "language_info": {
   "codemirror_mode": {
    "name": "ipython",
    "version": 3
   },
   "file_extension": ".py",
   "mimetype": "text/x-python",
   "name": "python",
   "nbconvert_exporter": "python",
   "pygments_lexer": "ipython3",
   "version": "3.8.10"
  }
 },
 "nbformat": 4,
 "nbformat_minor": 5
}
