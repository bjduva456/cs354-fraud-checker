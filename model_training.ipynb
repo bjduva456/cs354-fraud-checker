{
 "cells": [
  {
   "cell_type": "markdown",
   "id": "f92fe637-25fb-4d1c-aab1-9b608bad6f4d",
   "metadata": {},
   "source": [
    "## Model Training"
   ]
  },
  {
   "cell_type": "markdown",
   "id": "5285a0e1-36a8-4b53-ab79-0add729715db",
   "metadata": {},
   "source": [
    "### Spark Session Setup"
   ]
  },
  {
   "cell_type": "code",
   "execution_count": 1,
   "id": "ead2d3c8-5710-48b1-ba06-40e7111014e8",
   "metadata": {},
   "outputs": [],
   "source": [
    "import findspark\n",
    "\n",
    "findspark.init()"
   ]
  },
  {
   "cell_type": "code",
   "execution_count": 2,
   "id": "1b1c656e-51c7-417c-9121-f899aae6ea76",
   "metadata": {},
   "outputs": [
    {
     "name": "stderr",
     "output_type": "stream",
     "text": [
      "Setting default log level to \"WARN\".\n",
      "To adjust logging level use sc.setLogLevel(newLevel). For SparkR, use setLogLevel(newLevel).\n",
      "25/03/22 12:07:55 WARN NativeCodeLoader: Unable to load native-hadoop library for your platform... using builtin-java classes where applicable\n"
     ]
    }
   ],
   "source": [
    "from pyspark.sql import SparkSession\n",
    "\n",
    "spark = SparkSession.builder.appName('modelTraining').getOrCreate()"
   ]
  },
  {
   "cell_type": "code",
   "execution_count": 7,
   "id": "e1475d7e-21bf-4cac-a576-49a9b3aa65dd",
   "metadata": {},
   "outputs": [
    {
     "name": "stderr",
     "output_type": "stream",
     "text": [
      "                                                                                "
     ]
    }
   ],
   "source": [
    "#data loading will change once data is hosted on hadoop, loading from local for now\n",
    "from pyspark import SparkFiles\n",
    "df = spark.read.csv('file:///home/jj/cs354/final_project/cs354-fraud-checker/credit_card_transactions.csv', inferSchema = True, header = True) #hardcoded filepath for Brian's system for now, will be changed once data is on hadoop\n",
    "#also noted, this is temp with raw data, but will be loading clean data"
   ]
  },
  {
   "cell_type": "markdown",
   "id": "5ea52d8e-7606-4137-9762-3677f46c6c2e",
   "metadata": {},
   "source": [
    "### Train Test Split"
   ]
  },
  {
   "cell_type": "code",
   "execution_count": 8,
   "id": "489acd23-1ca4-42cd-b2b3-fa02dd7197c9",
   "metadata": {},
   "outputs": [],
   "source": [
    "train_data, test_data = df.randomSplit([0.7, 0.3], seed = 101)"
   ]
  },
  {
   "cell_type": "markdown",
   "id": "d6e11186-80f1-46bd-b71c-bdc57a9e397d",
   "metadata": {},
   "source": [
    "### Model Importing and Setup"
   ]
  },
  {
   "cell_type": "code",
   "execution_count": 10,
   "id": "dc74e917-c271-4aef-a8bb-db11b787a9c8",
   "metadata": {},
   "outputs": [],
   "source": [
    "#import models\n",
    "from pyspark.ml.classification import NaiveBayes\n",
    "\n",
    "#set up models with default settings\n",
    "nb = NaiveBayes()"
   ]
  },
  {
   "cell_type": "code",
   "execution_count": 11,
   "id": "cdabdbf2-909a-46b0-bc77-45c4a29945ab",
   "metadata": {},
   "outputs": [],
   "source": [
    "#eval set up\n",
    "from pyspark.ml.evaluation import MulticlassClassificationEvaluator\n",
    "\n",
    "acc_evaluator = MulticlassClassificationEvaluator()"
   ]
  },
  {
   "cell_type": "markdown",
   "id": "8c37c854-9a7d-4ed8-a02f-87c318f0adf7",
   "metadata": {},
   "source": [
    "### Hyperparameter Tuning"
   ]
  },
  {
   "cell_type": "code",
   "execution_count": 13,
   "id": "29c5a144-450a-4898-8597-e86ddbbdce1d",
   "metadata": {},
   "outputs": [],
   "source": [
    "from pyspark.ml.tuning import CrossValidator, ParamGridBuilder\n",
    "\n",
    "#naive bayes\n",
    "grid = ParamGridBuilder().addGrid(nb.smoothing, [0.0, 0.25, 0.5, 0.75, 1.0, 1.25, 1.5]).build()\n",
    "nb_cv = CrossValidator(estimator = nb, estimatorParamMaps = grid, evaluator = acc_evaluator, numFolds = 5, parallelism = 4)"
   ]
  },
  {
   "cell_type": "code",
   "execution_count": null,
   "id": "5b25efe4-dcfc-4e71-9247-9d0824f37c9f",
   "metadata": {},
   "outputs": [],
   "source": [
    "#run predictions\n",
    "nb_cv_model = nb_cv.fit(train_data)\n",
    "nb_cv_pred = nb_cv_model.transform(test_data)"
   ]
  },
  {
   "cell_type": "code",
   "execution_count": null,
   "id": "fef422b9-0370-48f1-8b9a-7e832f63cee8",
   "metadata": {},
   "outputs": [],
   "source": [
    "#results\n",
    "print(cv_model.bestModel)\n",
    "\n",
    "nb_accuracy = evaluator.evaluate(nb_cv_pred)\n",
    "print(f\"Naive Bayes Accuracy: {nb_accuracy}\")"
   ]
  }
 ],
 "metadata": {
  "kernelspec": {
   "display_name": "Python 3 (ipykernel)",
   "language": "python",
   "name": "python3"
  },
  "language_info": {
   "codemirror_mode": {
    "name": "ipython",
    "version": 3
   },
   "file_extension": ".py",
   "mimetype": "text/x-python",
   "name": "python",
   "nbconvert_exporter": "python",
   "pygments_lexer": "ipython3",
   "version": "3.8.10"
  }
 },
 "nbformat": 4,
 "nbformat_minor": 5
}
