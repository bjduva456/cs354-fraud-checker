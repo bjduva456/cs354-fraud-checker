{
 "cells": [
  {
   "cell_type": "markdown",
   "id": "ed273a32-b412-4efd-877b-8b0172c79109",
   "metadata": {},
   "source": [
    "## Data Cleaning"
   ]
  },
  {
   "cell_type": "code",
   "execution_count": 1,
   "id": "0a5375a4-273a-4516-8197-708864c046bd",
   "metadata": {},
   "outputs": [],
   "source": [
    "import findspark\n",
    "\n",
    "findspark.init()"
   ]
  },
  {
   "cell_type": "code",
   "execution_count": 2,
   "id": "3a9c08af-53f5-4b59-b930-c66811a099f7",
   "metadata": {},
   "outputs": [
    {
     "name": "stderr",
     "output_type": "stream",
     "text": [
      "Setting default log level to \"WARN\".\n",
      "To adjust logging level use sc.setLogLevel(newLevel). For SparkR, use setLogLevel(newLevel).\n",
      "25/04/13 14:01:36 WARN NativeCodeLoader: Unable to load native-hadoop library for your platform... using builtin-java classes where applicable\n"
     ]
    }
   ],
   "source": [
    "from pyspark.sql import SparkSession\n",
    "spark = SparkSession.builder.appName(\"data_cleaning\").getOrCreate()"
   ]
  },
  {
   "cell_type": "code",
   "execution_count": 3,
   "id": "28ca81ee-e319-4b7b-a879-92e344d58aa3",
   "metadata": {},
   "outputs": [
    {
     "name": "stderr",
     "output_type": "stream",
     "text": [
      "25/04/13 14:01:56 WARN GarbageCollectionMetrics: To enable non-built-in garbage collector(s) List(G1 Concurrent GC), users should configure it(them) to spark.eventLog.gcMetrics.youngGenerationGarbageCollectors or spark.eventLog.gcMetrics.oldGenerationGarbageCollectors\n",
      "                                                                                "
     ]
    }
   ],
   "source": [
    "from pyspark import SparkFiles\n",
    "df = spark.read.csv(\"credit_card_transactions.csv\", header=True, inferSchema=True) #filepath hardcoded to local for now, change to hadoop later?"
   ]
  },
  {
   "cell_type": "code",
   "execution_count": 4,
   "id": "1f5d328c-13d1-44af-9485-f3c9ad4c075a",
   "metadata": {},
   "outputs": [],
   "source": [
    "from pyspark.sql.functions import radians, cos, sin, asin, sqrt\n",
    "\n",
    "# Convert lat/long to radians\n",
    "df = df.withColumn(\"lat_rad\", radians(\"lat\")) \\\n",
    "       .withColumn(\"long_rad\", radians(\"long\")) \\\n",
    "       .withColumn(\"merch_lat_rad\", radians(\"merch_lat\")) \\\n",
    "       .withColumn(\"merch_long_rad\", radians(\"merch_long\"))\n",
    "\n",
    "# Haversine formula in PySpark\n",
    "df = df.withColumn(\"home_merchant_dist\", 6371 * 2 * asin(sqrt(\n",
    "    sin((df[\"merch_lat_rad\"] - df[\"lat_rad\"]) / 2) ** 2 +\n",
    "    cos(df[\"lat_rad\"]) * cos(df[\"merch_lat_rad\"]) *\n",
    "    sin((df[\"merch_long_rad\"] - df[\"long_rad\"]) / 2) ** 2\n",
    ")))\n"
   ]
  },
  {
   "cell_type": "code",
   "execution_count": 5,
   "id": "e80271d0-dd45-443e-ad10-ae607bf6654b",
   "metadata": {},
   "outputs": [],
   "source": [
    "df = df.drop(\"lat_rad\", \"long_rad\", \"merch_lat_rad\", \"merch_long_rad\")"
   ]
  },
  {
   "cell_type": "code",
   "execution_count": 6,
   "id": "9f6a33df-6021-4ef0-a49f-02811598a02f",
   "metadata": {},
   "outputs": [
    {
     "name": "stderr",
     "output_type": "stream",
     "text": [
      "[Stage 2:============================================>              (3 + 1) / 4]"
     ]
    },
    {
     "name": "stdout",
     "output_type": "stream",
     "text": [
      "+-------+--------------------+\n",
      "|summary|  home_merchant_dist|\n",
      "+-------+--------------------+\n",
      "|  count|             1296675|\n",
      "|   mean|   76.11465060395075|\n",
      "| stddev|  29.116934511278078|\n",
      "|    min|0.022254515638533652|\n",
      "|    max|  152.11717310595034|\n",
      "+-------+--------------------+\n",
      "\n"
     ]
    },
    {
     "name": "stderr",
     "output_type": "stream",
     "text": [
      "                                                                                "
     ]
    }
   ],
   "source": [
    "df.select(\"home_merchant_dist\").describe().show()"
   ]
  },
  {
   "cell_type": "code",
   "execution_count": 7,
   "id": "eed8e15c-4133-49e3-accc-d7ea92439580",
   "metadata": {},
   "outputs": [],
   "source": [
    "from pyspark.sql.functions import hour, dayofweek, month, to_timestamp\n",
    "\n",
    "df = df.withColumn(\"trans_timestamp\", to_timestamp(\"trans_date_trans_time\"))\n",
    "df = df.withColumn(\"transaction_hour\", hour(\"trans_timestamp\"))\n",
    "df = df.withColumn(\"transaction_dayofweek\", dayofweek(\"trans_timestamp\"))\n",
    "df = df.withColumn(\"transaction_month\", month(\"trans_timestamp\"))\n"
   ]
  },
  {
   "cell_type": "code",
   "execution_count": 8,
   "id": "5964fa8f-ed89-4771-9fc6-9bd46f7c02f2",
   "metadata": {},
   "outputs": [
    {
     "name": "stderr",
     "output_type": "stream",
     "text": [
      "25/04/13 14:02:35 WARN SparkStringUtils: Truncated the string representation of a plan since it was too large. This behavior can be adjusted by setting 'spark.sql.debug.maxToStringFields'.\n"
     ]
    },
    {
     "name": "stdout",
     "output_type": "stream",
     "text": [
      "+----------+---------------------+----------------+----------------------------------+-------------+------+---------+-------+------+----------------------------+--------------+-----+-----+-------+---------+--------+---------------------------------+----------+--------------------------------+----------+------------------+-----------+--------+-------------+------------------+-------------------+----------------+---------------------+-----------------+\n",
      "|Unnamed: 0|trans_date_trans_time|cc_num          |merchant                          |category     |amt   |first    |last   |gender|street                      |city          |state|zip  |lat    |long     |city_pop|job                              |dob       |trans_num                       |unix_time |merch_lat         |merch_long |is_fraud|merch_zipcode|home_merchant_dist|trans_timestamp    |transaction_hour|transaction_dayofweek|transaction_month|\n",
      "+----------+---------------------+----------------+----------------------------------+-------------+------+---------+-------+------+----------------------------+--------------+-----+-----+-------+---------+--------+---------------------------------+----------+--------------------------------+----------+------------------+-----------+--------+-------------+------------------+-------------------+----------------+---------------------+-----------------+\n",
      "|0         |2019-01-01 00:00:18  |2703186189652095|fraud_Rippin, Kub and Mann        |misc_net     |4.97  |Jennifer |Banks  |F     |561 Perry Cove              |Moravian Falls|NC   |28654|36.0788|-81.1781 |3495    |Psychologist, counselling        |1988-03-09|0b242abb623afc578575680df30655b9|1325376018|36.011293         |-82.048315 |0       |28705        |78.59756848823062 |2019-01-01 00:00:18|0               |3                    |1                |\n",
      "|1         |2019-01-01 00:00:44  |630423337322    |fraud_Heller, Gutmann and Zieme   |grocery_pos  |107.23|Stephanie|Gill   |F     |43039 Riley Greens Suite 393|Orient        |WA   |99160|48.8878|-118.2105|149     |Special educational needs teacher|1978-06-21|1f76529f8574734946361c461b024d99|1325376044|49.159046999999994|-118.186462|0       |NULL         |30.212175719210443|2019-01-01 00:00:44|0               |3                    |1                |\n",
      "|2         |2019-01-01 00:00:51  |38859492057661  |fraud_Lind-Buckridge              |entertainment|220.11|Edward   |Sanchez|M     |594 White Dale Suite 530    |Malad City    |ID   |83252|42.1808|-112.262 |4154    |Nature conservation officer      |1962-01-19|a1a22d70485983eac12b5b88dad1cf95|1325376051|43.150704         |-112.154481|0       |83236        |108.20608258720068|2019-01-01 00:00:51|0               |3                    |1                |\n",
      "|3         |2019-01-01 00:01:16  |3534093764340240|fraud_Kutch, Hermiston and Farrell|gas_transport|45.0  |Jeremy   |White  |M     |9443 Cynthia Court Apt. 038 |Boulder       |MT   |59632|46.2306|-112.1138|1939    |Patent attorney                  |1967-01-12|6b849c168bdad6f867558c3793159a81|1325376076|47.034331         |-112.561071|0       |NULL         |95.67323113819748 |2019-01-01 00:01:16|0               |3                    |1                |\n",
      "|4         |2019-01-01 00:03:06  |375534208663984 |fraud_Keeling-Crist               |misc_pos     |41.96 |Tyler    |Garcia |M     |408 Bradley Rest            |Doe Hill      |VA   |24433|38.4207|-79.4629 |99      |Dance movement psychotherapist   |1986-03-28|a41d7549acf90789359a9aa5346dcb46|1325376186|38.674999         |-78.632459 |0       |22844        |77.5567436258178  |2019-01-01 00:03:06|0               |3                    |1                |\n",
      "+----------+---------------------+----------------+----------------------------------+-------------+------+---------+-------+------+----------------------------+--------------+-----+-----+-------+---------+--------+---------------------------------+----------+--------------------------------+----------+------------------+-----------+--------+-------------+------------------+-------------------+----------------+---------------------+-----------------+\n",
      "only showing top 5 rows\n",
      "\n"
     ]
    }
   ],
   "source": [
    "df.show(5, truncate=False)"
   ]
  },
  {
   "cell_type": "code",
   "execution_count": 11,
   "id": "1d6d93c8-9df3-4cbd-a4ee-6ddb115fc4d4",
   "metadata": {},
   "outputs": [],
   "source": [
    "# Clear missing values\n",
    "df_cleaned = df.dropna()\n",
    "\n"
   ]
  },
  {
   "cell_type": "code",
   "execution_count": 12,
   "id": "ae5cd390-262a-4fbd-acb4-bb943d8ff1e7",
   "metadata": {},
   "outputs": [
    {
     "name": "stderr",
     "output_type": "stream",
     "text": [
      "                                                                                "
     ]
    },
    {
     "name": "stdout",
     "output_type": "stream",
     "text": [
      "Original DataFrame count: 1296675\n"
     ]
    },
    {
     "name": "stderr",
     "output_type": "stream",
     "text": [
      "[Stage 9:=============================>                             (2 + 2) / 4]"
     ]
    },
    {
     "name": "stdout",
     "output_type": "stream",
     "text": [
      "Cleaned DataFrame count: 1100702\n"
     ]
    },
    {
     "name": "stderr",
     "output_type": "stream",
     "text": [
      "                                                                                "
     ]
    }
   ],
   "source": [
    "print(f\"Original DataFrame count: {df.count()}\")\n",
    "print(f\"Cleaned DataFrame count: {df_cleaned.count()}\")\n"
   ]
  },
  {
   "cell_type": "code",
   "execution_count": 15,
   "id": "e256c38a-8421-420a-9b8b-2694f90effe2",
   "metadata": {},
   "outputs": [
    {
     "name": "stderr",
     "output_type": "stream",
     "text": [
      "                                                                                "
     ]
    },
    {
     "name": "stdout",
     "output_type": "stream",
     "text": [
      "+----------+---------------------+-------------------+--------------------+--------------+-------+---------+---------+------+--------------------+--------------+-----+-----+------------------+---------+--------+--------------------+----------+--------------------+----------+------------------+------------------+--------+-------------+------------------+-------------------+----------------+---------------------+-----------------+\n",
      "|Unnamed: 0|trans_date_trans_time|             cc_num|            merchant|      category|    amt|    first|     last|gender|              street|          city|state|  zip|               lat|     long|city_pop|                 job|       dob|           trans_num| unix_time|         merch_lat|        merch_long|is_fraud|merch_zipcode|home_merchant_dist|    trans_timestamp|transaction_hour|transaction_dayofweek|transaction_month|\n",
      "+----------+---------------------+-------------------+--------------------+--------------+-------+---------+---------+------+--------------------+--------------+-----+-----+------------------+---------+--------+--------------------+----------+--------------------+----------+------------------+------------------+--------+-------------+------------------+-------------------+----------------+---------------------+-----------------+\n",
      "|    185034|  2019-04-06 16:49:00|4301028321766222513|fraud_Ledner, Har...|health_fitness|   75.6|      Joe|   Howard|     M|109 Brian Lights ...|  Shippingport|   PA|15077|           40.6025| -80.3863|     198|Secretary/adminis...|1978-10-26|74c44dbd9cfc281ee...|1333730940|         40.965167|        -81.084556|       0|        44449| 71.29076907413037|2019-04-06 16:49:00|              16|                    7|                4|\n",
      "|       247|  2019-01-01 03:09:38|     36485887555770|    fraud_Spinka Inc|   grocery_net|  22.08|  Michael|    Gross|     M|230 Ryan Tunnel A...|        Fulton|   OH|43321|           40.4971| -82.8342|     267|  Facilities manager|2005-01-29|7caaa93dd3c4fdbbd...|1325387378|         40.006116|-82.23955600000001|       0|        43746| 74.34543359762054|2019-01-01 03:09:38|               3|                    3|                1|\n",
      "|   1219307|  2020-05-25 01:18:45|   5388659976630693|fraud_Casper, Han...|   grocery_pos| 336.26|  Charles|  Preston|     M| 5364 William Harbor|        Seneca|   WI|54654|           43.2064| -90.9405|     153|   Quantity surveyor|1962-02-14|7f28a07089c7b744c...|1369444725|         43.964303|         -91.53299|       1|        54661|  96.8476694372321|2020-05-25 01:18:45|               1|                    2|                5|\n",
      "|    399739|  2019-06-30 22:37:22|   4265776278887457|fraud_Okuneva, Sc...|  shopping_pos| 886.59|Christine|     Best|     F|   68248 Deanna Land|         Enola|   AR|72047|           35.2087| -92.2123|     969|  Physicist, medical|1954-01-05|eade4fd549a1453bc...|1341095842|35.018640999999995|        -93.097713|       1|        72025| 83.26248361456044|2019-06-30 22:37:22|              22|                    1|                6|\n",
      "|    538139|  2019-08-18 22:42:12|   3540210836308425| fraud_Goldner-Lemke| entertainment|  63.03|   Steven|    Yoder|     M|94975 David Mews ...|   Summerfield|   TX|79085|           34.7437|-102.5064|      53|   Fisheries officer|1992-06-19|15031fed285371e11...|1345329732|34.182646000000005|        -102.86233|       0|        79347| 70.40483566052717|2019-08-18 22:42:12|              22|                    1|                8|\n",
      "|    852580|  2019-12-15 21:56:19|   4599285557366057|  fraud_Prosacco LLC| personal_care| 111.37|     Mary| Williams|     F|00315 Ashley Valleys|       Burrton|   KS|67020|           38.0261| -97.6666|    1689|              Gaffer|1997-11-18|a99a24a17d28a8c51...|1355608579|         37.434805|         -97.77356|       0|        67106|  66.4184550943884|2019-12-15 21:56:19|              21|                    1|               12|\n",
      "|    338471|  2019-06-09 11:40:46|     36890292963032|fraud_Rodriguez, ...|      misc_net|   5.51| Kimberly|     Webb|     F|  380 Martin Mission|        Girard|   GA|30426|           33.0437| -81.7106|    1100|Conservator, muse...|1950-04-05|54dcb4a747ad69452...|1339242046|         33.098353|        -82.398889|       0|        30833| 64.42245260753872|2019-06-09 11:40:46|              11|                    1|                6|\n",
      "|    331316|  2019-06-06 23:37:23|     30029052116970| fraud_Adams-Barrows|health_fitness| 178.51|   Curtis|    Young|     M|4319 Watson Shoal...|      Falconer|   NY|14733|           42.1239| -79.1895|    3833|        Metallurgist|1970-10-09|5f6741e7cd626fd40...|1339025843|         41.977397|        -78.234489|       0|        14721|  80.5181391238255|2019-06-06 23:37:23|              23|                    5|                6|\n",
      "|     72074|  2019-02-12 01:54:28|   4204237326785494|fraud_Parisian, S...|      misc_net| 893.06|     Mary|   Golden|     F|    4407 Lisa Course|West Frankfort|   IL|62896|           37.8979| -88.9307|   12626|Trading standards...|1996-01-10|8cc9fde58af96aa27...|1329011668|36.980028999999995|-88.98441700000001|       1|        42087|102.17272188092811|2019-02-12 01:54:28|               1|                    3|                2|\n",
      "|    424261|  2019-07-09 11:04:51|    213198837352314|fraud_Spencer-Run...|      misc_pos|  34.88|     John|     Vega|     M|4483 Sharp Ferry ...|      Garfield|   KS|67529|           38.0649| -99.2374|     365|Equality and dive...|1991-02-03|8debc93967b25369b...|1341831891|          38.17749|        -99.929565|       0|        67854|61.829649817167066|2019-07-09 11:04:51|              11|                    3|                7|\n",
      "|    583457|  2019-09-04 12:39:29|   3583093681934489|fraud_Ruecker-Mayert|     kids_pets|  30.01|   Hannah|   Knight|     F|0900 Beverly Landing|    Louisville|   KY|40209|           38.1901| -85.7519|  736284|Education officer...|1961-09-13|07f49fc744b2caa65...|1346762369|         38.720442|         -85.31076|       0|        40045|  70.3784340174658|2019-09-04 12:39:29|              12|                    4|                9|\n",
      "|   1234035|  2020-05-30 09:40:58|   6573561108825071|   fraud_Frami Group| entertainment|   2.38| Kristina|    Lewis|     F|5449 Brandi Heigh...|         Tulsa|   OK|74130|           36.2395| -95.9596|  413574|          Bookseller|1968-06-18|784548d76ccc76d24...|1369906858|         35.308048|        -95.764332|       0|        74461|105.06011518259112|2020-05-30 09:40:58|               9|                    7|                5|\n",
      "|    173506|  2019-04-01 01:41:59|4063094974360571498|fraud_Raynor, Fee...| gas_transport|  86.33| Patricia|  Mendoza|     F|1683 Davidson Fre...|        Mendon|   UT|84325|             41.71|-111.9817|    2078|Scientist, audiol...|1963-06-13|107ff7735a2653193...|1333244519|         42.425625|       -111.924848|       0|        83234| 79.71212556492186|2019-04-01 01:41:59|               1|                    2|                4|\n",
      "|    264945|  2019-05-11 22:20:17|   3533742182628021|fraud_Goyette, Ho...|  shopping_pos| 760.07|   Robert|   Haynes|     M|857 Aaron Circles...|  Johns Island|   SC|29455|           32.8357| -79.8217|   20478|  Materials engineer|1997-06-04|ff4e83bc62824e18b...|1336774817|         32.558188|        -80.731085|       1|        29940| 90.51742223608683|2019-05-11 22:20:17|              22|                    7|                5|\n",
      "|    910257|  2019-12-29 03:30:13|4715741951931168360|fraud_Prohaska-Mu...| gas_transport|  20.86|   Robert|    Drake|     M|  463 Willie Estates|       Burbank|   OK|74633|           36.6966| -96.7869|     471|                 Sub|1941-03-30|dae2975dd16ccd882...|1356751813|         36.134031|        -97.356515|       1|        73073| 80.69101734029967|2019-12-29 03:30:13|               3|                    1|               12|\n",
      "|     71698|  2019-02-11 22:04:31|   6011109736646996|fraud_O'Connell, ...|          home| 259.17|  Rebecca| Erickson|     F|594 Berry Lights ...|    Wilmington|   NC|28405|           34.2651|  -77.867|  186140|English as a seco...|1983-02-08|d0fe9cd05482ab29b...|1328997871|         34.200645|        -78.746466|       1|        28432|  81.1672278000867|2019-02-11 22:04:31|              22|                    2|                2|\n",
      "|    859141|  2019-12-16 23:16:04|     30273037698427|    fraud_Fisher Inc|  shopping_net|1153.61|   Andrew|Patterson|     M|06959 Stephen Bra...|         Thida|   AR|72165|           35.5762| -91.4539|     111|Careers informati...|2000-06-13|74ed54ea6a2361fc9...|1355699764|         35.846812|        -91.031777|       1|        72410|48.558895342078195|2019-12-16 23:16:04|              23|                    2|               12|\n",
      "|    529413|  2019-08-16 08:37:21|   2252055259910912|fraud_Heller, Gut...|   grocery_pos| 112.11|    Jason|Hernandez|     M|   220 Frank Gardens|        Hewitt|   WI|54441|           44.6437| -90.1031|     828|Arts development ...|1991-08-19|32c8b6aa136aeb76c...|1345106241|         45.158472|        -89.871859|       0|        54452| 60.06769996025727|2019-08-16 08:37:21|               8|                    6|                8|\n",
      "|    469300|  2019-07-26 03:02:23|    377113842678100|   fraud_Hintz-Bruen|   grocery_net|  12.99|    Billy|Gallagher|     M|    673 Delgado Burg|     Greenwich|   NJ| 8323|           39.4055| -75.3209|     804|Insurance risk su...|1965-03-25|0ad2dccc538a33159...|1343271743|         40.337864|        -75.921617|       1|        19602|115.65580845784343|2019-07-26 03:02:23|               3|                    6|                7|\n",
      "|    284106|  2019-05-20 01:22:39|     38199021865320|fraud_Hackett-Lue...|   grocery_pos|  306.7|    Jesse|  Roberts|     M|8415 Vaughn Squar...|       Acworth|   NH| 3601|43.196000000000005| -72.3001|     477|     Naval architect|1988-04-15|06019628e0dc0d916...|1337476959|43.559740999999995|        -71.324967|       1|         3249| 88.58295887985908|2019-05-20 01:22:39|               1|                    2|                5|\n",
      "+----------+---------------------+-------------------+--------------------+--------------+-------+---------+---------+------+--------------------+--------------+-----+-----+------------------+---------+--------+--------------------+----------+--------------------+----------+------------------+------------------+--------+-------------+------------------+-------------------+----------------+---------------------+-----------------+\n",
      "only showing top 20 rows\n",
      "\n"
     ]
    },
    {
     "name": "stderr",
     "output_type": "stream",
     "text": [
      "[Stage 28:===========================================>              (6 + 2) / 8]"
     ]
    },
    {
     "name": "stdout",
     "output_type": "stream",
     "text": [
      "Balanced DataFrame count: 12553\n"
     ]
    },
    {
     "name": "stderr",
     "output_type": "stream",
     "text": [
      "                                                                                "
     ]
    }
   ],
   "source": [
    "from pyspark.sql.functions import col, rand\n",
    "\n",
    "# Separate the fraud and legit DataFrames\n",
    "df_fraud = df_cleaned.filter(col('is_fraud') == 1)\n",
    "df_legit = df_cleaned.filter(col('is_fraud') == 0)\n",
    "\n",
    "# Calculate the fraction for downsampling\n",
    "fraction = df_fraud.count() / df_legit.count()\n",
    "\n",
    "# Downsample the legit class to match the fraud class size\n",
    "df_legit_downsampled = df_legit.sample(fraction=fraction, seed=101)\n",
    "\n",
    "# Union the fraud and downsampled legit DataFrames\n",
    "df_balanced = df_fraud.union(df_legit_downsampled)\n",
    "\n",
    "# Shuffle the balanced DataFrame by adding a random column and sorting by it\n",
    "df_balanced = df_balanced.withColumn(\"rand_col\", rand())  # Add a random column\n",
    "df_balanced = df_balanced.orderBy(\"rand_col\")  # Shuffle the rows based on the random column\n",
    "\n",
    "# Drop the random column after shuffling\n",
    "df_balanced = df_balanced.drop(\"rand_col\")\n",
    "\n",
    "# Show the shuffled balanced dataframe\n",
    "df_balanced.show()\n",
    "\n",
    "# Optionally, get the count of the balanced DataFrame\n",
    "print(f\"Balanced DataFrame count: {df_balanced.count()}\")"
   ]
  },
  {
   "cell_type": "code",
   "execution_count": 17,
   "id": "6871b197-7cad-42b4-bfb9-8d507cfbdad9",
   "metadata": {},
   "outputs": [],
   "source": [
    "import seaborn as sns\n",
    "import matplotlib.pyplot as plt"
   ]
  },
  {
   "cell_type": "code",
   "execution_count": 20,
   "id": "79ee206c-2a32-426c-b5d3-3d8a34ff7947",
   "metadata": {},
   "outputs": [
    {
     "ename": "TypeError",
     "evalue": "Data source must be a DataFrame or Mapping, not <class 'pyspark.sql.dataframe.DataFrame'>.",
     "output_type": "error",
     "traceback": [
      "\u001b[0;31m---------------------------------------------------------------------------\u001b[0m",
      "\u001b[0;31mTypeError\u001b[0m                                 Traceback (most recent call last)",
      "Cell \u001b[0;32mIn[20], line 1\u001b[0m\n\u001b[0;32m----> 1\u001b[0m \u001b[43msns\u001b[49m\u001b[38;5;241;43m.\u001b[39;49m\u001b[43mcountplot\u001b[49m\u001b[43m(\u001b[49m\u001b[43mx\u001b[49m\u001b[38;5;241;43m=\u001b[39;49m\u001b[38;5;124;43m'\u001b[39;49m\u001b[38;5;124;43mis_fraud\u001b[39;49m\u001b[38;5;124;43m'\u001b[39;49m\u001b[43m,\u001b[49m\u001b[43m \u001b[49m\u001b[43mdata\u001b[49m\u001b[38;5;241;43m=\u001b[39;49m\u001b[43mdf\u001b[49m\u001b[43m)\u001b[49m\n",
      "File \u001b[0;32m~/.local/lib/python3.8/site-packages/seaborn/categorical.py:2631\u001b[0m, in \u001b[0;36mcountplot\u001b[0;34m(data, x, y, hue, order, hue_order, orient, color, palette, saturation, fill, hue_norm, stat, width, dodge, gap, log_scale, native_scale, formatter, legend, ax, **kwargs)\u001b[0m\n\u001b[1;32m   2628\u001b[0m \u001b[38;5;28;01melif\u001b[39;00m x \u001b[38;5;129;01mis\u001b[39;00m \u001b[38;5;129;01mnot\u001b[39;00m \u001b[38;5;28;01mNone\u001b[39;00m \u001b[38;5;129;01mand\u001b[39;00m y \u001b[38;5;129;01mis\u001b[39;00m \u001b[38;5;129;01mnot\u001b[39;00m \u001b[38;5;28;01mNone\u001b[39;00m:\n\u001b[1;32m   2629\u001b[0m     \u001b[38;5;28;01mraise\u001b[39;00m \u001b[38;5;167;01mTypeError\u001b[39;00m(\u001b[38;5;124m\"\u001b[39m\u001b[38;5;124mCannot pass values for both `x` and `y`.\u001b[39m\u001b[38;5;124m\"\u001b[39m)\n\u001b[0;32m-> 2631\u001b[0m p \u001b[38;5;241m=\u001b[39m \u001b[43m_CategoricalAggPlotter\u001b[49m\u001b[43m(\u001b[49m\n\u001b[1;32m   2632\u001b[0m \u001b[43m    \u001b[49m\u001b[43mdata\u001b[49m\u001b[38;5;241;43m=\u001b[39;49m\u001b[43mdata\u001b[49m\u001b[43m,\u001b[49m\n\u001b[1;32m   2633\u001b[0m \u001b[43m    \u001b[49m\u001b[43mvariables\u001b[49m\u001b[38;5;241;43m=\u001b[39;49m\u001b[38;5;28;43mdict\u001b[39;49m\u001b[43m(\u001b[49m\u001b[43mx\u001b[49m\u001b[38;5;241;43m=\u001b[39;49m\u001b[43mx\u001b[49m\u001b[43m,\u001b[49m\u001b[43m \u001b[49m\u001b[43my\u001b[49m\u001b[38;5;241;43m=\u001b[39;49m\u001b[43my\u001b[49m\u001b[43m,\u001b[49m\u001b[43m \u001b[49m\u001b[43mhue\u001b[49m\u001b[38;5;241;43m=\u001b[39;49m\u001b[43mhue\u001b[49m\u001b[43m)\u001b[49m\u001b[43m,\u001b[49m\n\u001b[1;32m   2634\u001b[0m \u001b[43m    \u001b[49m\u001b[43morder\u001b[49m\u001b[38;5;241;43m=\u001b[39;49m\u001b[43morder\u001b[49m\u001b[43m,\u001b[49m\n\u001b[1;32m   2635\u001b[0m \u001b[43m    \u001b[49m\u001b[43morient\u001b[49m\u001b[38;5;241;43m=\u001b[39;49m\u001b[43morient\u001b[49m\u001b[43m,\u001b[49m\n\u001b[1;32m   2636\u001b[0m \u001b[43m    \u001b[49m\u001b[43mcolor\u001b[49m\u001b[38;5;241;43m=\u001b[39;49m\u001b[43mcolor\u001b[49m\u001b[43m,\u001b[49m\n\u001b[1;32m   2637\u001b[0m \u001b[43m    \u001b[49m\u001b[43mlegend\u001b[49m\u001b[38;5;241;43m=\u001b[39;49m\u001b[43mlegend\u001b[49m\u001b[43m,\u001b[49m\n\u001b[1;32m   2638\u001b[0m \u001b[43m\u001b[49m\u001b[43m)\u001b[49m\n\u001b[1;32m   2640\u001b[0m \u001b[38;5;28;01mif\u001b[39;00m ax \u001b[38;5;129;01mis\u001b[39;00m \u001b[38;5;28;01mNone\u001b[39;00m:\n\u001b[1;32m   2641\u001b[0m     ax \u001b[38;5;241m=\u001b[39m plt\u001b[38;5;241m.\u001b[39mgca()\n",
      "File \u001b[0;32m~/.local/lib/python3.8/site-packages/seaborn/categorical.py:67\u001b[0m, in \u001b[0;36m_CategoricalPlotter.__init__\u001b[0;34m(self, data, variables, order, orient, require_numeric, color, legend)\u001b[0m\n\u001b[1;32m     56\u001b[0m \u001b[38;5;28;01mdef\u001b[39;00m\u001b[38;5;250m \u001b[39m\u001b[38;5;21m__init__\u001b[39m(\n\u001b[1;32m     57\u001b[0m     \u001b[38;5;28mself\u001b[39m,\n\u001b[1;32m     58\u001b[0m     data\u001b[38;5;241m=\u001b[39m\u001b[38;5;28;01mNone\u001b[39;00m,\n\u001b[0;32m   (...)\u001b[0m\n\u001b[1;32m     64\u001b[0m     legend\u001b[38;5;241m=\u001b[39m\u001b[38;5;124m\"\u001b[39m\u001b[38;5;124mauto\u001b[39m\u001b[38;5;124m\"\u001b[39m,\n\u001b[1;32m     65\u001b[0m ):\n\u001b[0;32m---> 67\u001b[0m     \u001b[38;5;28;43msuper\u001b[39;49m\u001b[43m(\u001b[49m\u001b[43m)\u001b[49m\u001b[38;5;241;43m.\u001b[39;49m\u001b[38;5;21;43m__init__\u001b[39;49m\u001b[43m(\u001b[49m\u001b[43mdata\u001b[49m\u001b[38;5;241;43m=\u001b[39;49m\u001b[43mdata\u001b[49m\u001b[43m,\u001b[49m\u001b[43m \u001b[49m\u001b[43mvariables\u001b[49m\u001b[38;5;241;43m=\u001b[39;49m\u001b[43mvariables\u001b[49m\u001b[43m)\u001b[49m\n\u001b[1;32m     69\u001b[0m     \u001b[38;5;66;03m# This method takes care of some bookkeeping that is necessary because the\u001b[39;00m\n\u001b[1;32m     70\u001b[0m     \u001b[38;5;66;03m# original categorical plots (prior to the 2021 refactor) had some rules that\u001b[39;00m\n\u001b[1;32m     71\u001b[0m     \u001b[38;5;66;03m# don't fit exactly into VectorPlotter logic. It may be wise to have a second\u001b[39;00m\n\u001b[0;32m   (...)\u001b[0m\n\u001b[1;32m     76\u001b[0m     \u001b[38;5;66;03m# default VectorPlotter rules. If we do decide to make orient part of the\u001b[39;00m\n\u001b[1;32m     77\u001b[0m     \u001b[38;5;66;03m# _base variable assignment, we'll want to figure out how to express that.\u001b[39;00m\n\u001b[1;32m     78\u001b[0m     \u001b[38;5;28;01mif\u001b[39;00m \u001b[38;5;28mself\u001b[39m\u001b[38;5;241m.\u001b[39minput_format \u001b[38;5;241m==\u001b[39m \u001b[38;5;124m\"\u001b[39m\u001b[38;5;124mwide\u001b[39m\u001b[38;5;124m\"\u001b[39m \u001b[38;5;129;01mand\u001b[39;00m orient \u001b[38;5;129;01min\u001b[39;00m [\u001b[38;5;124m\"\u001b[39m\u001b[38;5;124mh\u001b[39m\u001b[38;5;124m\"\u001b[39m, \u001b[38;5;124m\"\u001b[39m\u001b[38;5;124my\u001b[39m\u001b[38;5;124m\"\u001b[39m]:\n",
      "File \u001b[0;32m~/.local/lib/python3.8/site-packages/seaborn/_base.py:634\u001b[0m, in \u001b[0;36mVectorPlotter.__init__\u001b[0;34m(self, data, variables)\u001b[0m\n\u001b[1;32m    629\u001b[0m \u001b[38;5;66;03m# var_ordered is relevant only for categorical axis variables, and may\u001b[39;00m\n\u001b[1;32m    630\u001b[0m \u001b[38;5;66;03m# be better handled by an internal axis information object that tracks\u001b[39;00m\n\u001b[1;32m    631\u001b[0m \u001b[38;5;66;03m# such information and is set up by the scale_* methods. The analogous\u001b[39;00m\n\u001b[1;32m    632\u001b[0m \u001b[38;5;66;03m# information for numeric axes would be information about log scales.\u001b[39;00m\n\u001b[1;32m    633\u001b[0m \u001b[38;5;28mself\u001b[39m\u001b[38;5;241m.\u001b[39m_var_ordered \u001b[38;5;241m=\u001b[39m {\u001b[38;5;124m\"\u001b[39m\u001b[38;5;124mx\u001b[39m\u001b[38;5;124m\"\u001b[39m: \u001b[38;5;28;01mFalse\u001b[39;00m, \u001b[38;5;124m\"\u001b[39m\u001b[38;5;124my\u001b[39m\u001b[38;5;124m\"\u001b[39m: \u001b[38;5;28;01mFalse\u001b[39;00m}  \u001b[38;5;66;03m# alt., used DefaultDict\u001b[39;00m\n\u001b[0;32m--> 634\u001b[0m \u001b[38;5;28;43mself\u001b[39;49m\u001b[38;5;241;43m.\u001b[39;49m\u001b[43massign_variables\u001b[49m\u001b[43m(\u001b[49m\u001b[43mdata\u001b[49m\u001b[43m,\u001b[49m\u001b[43m \u001b[49m\u001b[43mvariables\u001b[49m\u001b[43m)\u001b[49m\n\u001b[1;32m    636\u001b[0m \u001b[38;5;66;03m# TODO Lots of tests assume that these are called to initialize the\u001b[39;00m\n\u001b[1;32m    637\u001b[0m \u001b[38;5;66;03m# mappings to default values on class initialization. I'd prefer to\u001b[39;00m\n\u001b[1;32m    638\u001b[0m \u001b[38;5;66;03m# move away from that and only have a mapping when explicitly called.\u001b[39;00m\n\u001b[1;32m    639\u001b[0m \u001b[38;5;28;01mfor\u001b[39;00m var \u001b[38;5;129;01min\u001b[39;00m [\u001b[38;5;124m\"\u001b[39m\u001b[38;5;124mhue\u001b[39m\u001b[38;5;124m\"\u001b[39m, \u001b[38;5;124m\"\u001b[39m\u001b[38;5;124msize\u001b[39m\u001b[38;5;124m\"\u001b[39m, \u001b[38;5;124m\"\u001b[39m\u001b[38;5;124mstyle\u001b[39m\u001b[38;5;124m\"\u001b[39m]:\n",
      "File \u001b[0;32m~/.local/lib/python3.8/site-packages/seaborn/_base.py:679\u001b[0m, in \u001b[0;36mVectorPlotter.assign_variables\u001b[0;34m(self, data, variables)\u001b[0m\n\u001b[1;32m    674\u001b[0m \u001b[38;5;28;01melse\u001b[39;00m:\n\u001b[1;32m    675\u001b[0m     \u001b[38;5;66;03m# When dealing with long-form input, use the newer PlotData\u001b[39;00m\n\u001b[1;32m    676\u001b[0m     \u001b[38;5;66;03m# object (internal but introduced for the objects interface)\u001b[39;00m\n\u001b[1;32m    677\u001b[0m     \u001b[38;5;66;03m# to centralize / standardize data consumption logic.\u001b[39;00m\n\u001b[1;32m    678\u001b[0m     \u001b[38;5;28mself\u001b[39m\u001b[38;5;241m.\u001b[39minput_format \u001b[38;5;241m=\u001b[39m \u001b[38;5;124m\"\u001b[39m\u001b[38;5;124mlong\u001b[39m\u001b[38;5;124m\"\u001b[39m\n\u001b[0;32m--> 679\u001b[0m     plot_data \u001b[38;5;241m=\u001b[39m \u001b[43mPlotData\u001b[49m\u001b[43m(\u001b[49m\u001b[43mdata\u001b[49m\u001b[43m,\u001b[49m\u001b[43m \u001b[49m\u001b[43mvariables\u001b[49m\u001b[43m)\u001b[49m\n\u001b[1;32m    680\u001b[0m     frame \u001b[38;5;241m=\u001b[39m plot_data\u001b[38;5;241m.\u001b[39mframe\n\u001b[1;32m    681\u001b[0m     names \u001b[38;5;241m=\u001b[39m plot_data\u001b[38;5;241m.\u001b[39mnames\n",
      "File \u001b[0;32m~/.local/lib/python3.8/site-packages/seaborn/_core/data.py:57\u001b[0m, in \u001b[0;36mPlotData.__init__\u001b[0;34m(self, data, variables)\u001b[0m\n\u001b[1;32m     51\u001b[0m \u001b[38;5;28;01mdef\u001b[39;00m\u001b[38;5;250m \u001b[39m\u001b[38;5;21m__init__\u001b[39m(\n\u001b[1;32m     52\u001b[0m     \u001b[38;5;28mself\u001b[39m,\n\u001b[1;32m     53\u001b[0m     data: DataSource,\n\u001b[1;32m     54\u001b[0m     variables: \u001b[38;5;28mdict\u001b[39m[\u001b[38;5;28mstr\u001b[39m, VariableSpec],\n\u001b[1;32m     55\u001b[0m ):\n\u001b[0;32m---> 57\u001b[0m     data \u001b[38;5;241m=\u001b[39m \u001b[43mhandle_data_source\u001b[49m\u001b[43m(\u001b[49m\u001b[43mdata\u001b[49m\u001b[43m)\u001b[49m\n\u001b[1;32m     58\u001b[0m     frame, names, ids \u001b[38;5;241m=\u001b[39m \u001b[38;5;28mself\u001b[39m\u001b[38;5;241m.\u001b[39m_assign_variables(data, variables)\n\u001b[1;32m     60\u001b[0m     \u001b[38;5;28mself\u001b[39m\u001b[38;5;241m.\u001b[39mframe \u001b[38;5;241m=\u001b[39m frame\n",
      "File \u001b[0;32m~/.local/lib/python3.8/site-packages/seaborn/_core/data.py:278\u001b[0m, in \u001b[0;36mhandle_data_source\u001b[0;34m(data)\u001b[0m\n\u001b[1;32m    276\u001b[0m \u001b[38;5;28;01melif\u001b[39;00m data \u001b[38;5;129;01mis\u001b[39;00m \u001b[38;5;129;01mnot\u001b[39;00m \u001b[38;5;28;01mNone\u001b[39;00m \u001b[38;5;129;01mand\u001b[39;00m \u001b[38;5;129;01mnot\u001b[39;00m \u001b[38;5;28misinstance\u001b[39m(data, Mapping):\n\u001b[1;32m    277\u001b[0m     err \u001b[38;5;241m=\u001b[39m \u001b[38;5;124mf\u001b[39m\u001b[38;5;124m\"\u001b[39m\u001b[38;5;124mData source must be a DataFrame or Mapping, not \u001b[39m\u001b[38;5;132;01m{\u001b[39;00m\u001b[38;5;28mtype\u001b[39m(data)\u001b[38;5;132;01m!r}\u001b[39;00m\u001b[38;5;124m.\u001b[39m\u001b[38;5;124m\"\u001b[39m\n\u001b[0;32m--> 278\u001b[0m     \u001b[38;5;28;01mraise\u001b[39;00m \u001b[38;5;167;01mTypeError\u001b[39;00m(err)\n\u001b[1;32m    280\u001b[0m \u001b[38;5;28;01mreturn\u001b[39;00m data\n",
      "\u001b[0;31mTypeError\u001b[0m: Data source must be a DataFrame or Mapping, not <class 'pyspark.sql.dataframe.DataFrame'>."
     ]
    }
   ],
   "source": [
    "sns.countplot(x='is_fraud', data=df)"
   ]
  },
  {
   "cell_type": "code",
   "execution_count": null,
   "id": "2a0b9888-dcd3-4bc4-878b-9d7dccb4231c",
   "metadata": {},
   "outputs": [],
   "source": []
  }
 ],
 "metadata": {
  "kernelspec": {
   "display_name": "Python 3 (ipykernel)",
   "language": "python",
   "name": "python3"
  },
  "language_info": {
   "codemirror_mode": {
    "name": "ipython",
    "version": 3
   },
   "file_extension": ".py",
   "mimetype": "text/x-python",
   "name": "python",
   "nbconvert_exporter": "python",
   "pygments_lexer": "ipython3",
   "version": "3.8.10"
  }
 },
 "nbformat": 4,
 "nbformat_minor": 5
}
