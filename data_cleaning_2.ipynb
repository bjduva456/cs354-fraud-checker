{
 "cells": [
  {
   "cell_type": "markdown",
   "id": "ed273a32-b412-4efd-877b-8b0172c79109",
   "metadata": {},
   "source": [
    "## Data Cleaning"
   ]
  },
  {
   "cell_type": "code",
   "execution_count": 1,
   "id": "0a5375a4-273a-4516-8197-708864c046bd",
   "metadata": {},
   "outputs": [],
   "source": [
    "import findspark\n",
    "\n",
    "findspark.init()"
   ]
  },
  {
   "cell_type": "code",
   "execution_count": 2,
   "id": "3a9c08af-53f5-4b59-b930-c66811a099f7",
   "metadata": {},
   "outputs": [
    {
     "name": "stderr",
     "output_type": "stream",
     "text": [
      "Setting default log level to \"WARN\".\n",
      "To adjust logging level use sc.setLogLevel(newLevel). For SparkR, use setLogLevel(newLevel).\n",
      "25/04/13 22:28:16 WARN NativeCodeLoader: Unable to load native-hadoop library for your platform... using builtin-java classes where applicable\n",
      "25/04/13 22:28:27 WARN GarbageCollectionMetrics: To enable non-built-in garbage collector(s) List(G1 Concurrent GC), users should configure it(them) to spark.eventLog.gcMetrics.youngGenerationGarbageCollectors or spark.eventLog.gcMetrics.oldGenerationGarbageCollectors\n"
     ]
    }
   ],
   "source": [
    "from pyspark.sql import SparkSession\n",
    "spark = SparkSession.builder.appName(\"data_cleaning\").getOrCreate()"
   ]
  },
  {
   "cell_type": "code",
   "execution_count": 3,
   "id": "28ca81ee-e319-4b7b-a879-92e344d58aa3",
   "metadata": {},
   "outputs": [
    {
     "name": "stderr",
     "output_type": "stream",
     "text": [
      "                                                                                "
     ]
    }
   ],
   "source": [
    "from pyspark import SparkFiles\n",
    "df = spark.read.csv(\"credit_card_transactions.csv\", header=True, inferSchema=True) #filepath hardcoded to local for now, change to hadoop later?"
   ]
  },
  {
   "cell_type": "code",
   "execution_count": 4,
   "id": "1f5d328c-13d1-44af-9485-f3c9ad4c075a",
   "metadata": {},
   "outputs": [],
   "source": [
    "from pyspark.sql.functions import radians, cos, sin, asin, sqrt\n",
    "\n",
    "# Convert lat/long to radians\n",
    "df = df.withColumn(\"lat_rad\", radians(\"lat\")) \\\n",
    "       .withColumn(\"long_rad\", radians(\"long\")) \\\n",
    "       .withColumn(\"merch_lat_rad\", radians(\"merch_lat\")) \\\n",
    "       .withColumn(\"merch_long_rad\", radians(\"merch_long\"))\n",
    "\n",
    "# Haversine formula in PySpark\n",
    "df = df.withColumn(\"home_merchant_dist\", 6371 * 2 * asin(sqrt(\n",
    "    sin((df[\"merch_lat_rad\"] - df[\"lat_rad\"]) / 2) ** 2 +\n",
    "    cos(df[\"lat_rad\"]) * cos(df[\"merch_lat_rad\"]) *\n",
    "    sin((df[\"merch_long_rad\"] - df[\"long_rad\"]) / 2) ** 2\n",
    ")))\n"
   ]
  },
  {
   "cell_type": "code",
   "execution_count": 5,
   "id": "e80271d0-dd45-443e-ad10-ae607bf6654b",
   "metadata": {},
   "outputs": [],
   "source": [
    "df = df.drop(\"lat_rad\", \"long_rad\", \"merch_lat_rad\", \"merch_long_rad\")"
   ]
  },
  {
   "cell_type": "code",
   "execution_count": 6,
   "id": "9f6a33df-6021-4ef0-a49f-02811598a02f",
   "metadata": {},
   "outputs": [
    {
     "name": "stderr",
     "output_type": "stream",
     "text": [
      "[Stage 2:============================================>              (3 + 1) / 4]"
     ]
    },
    {
     "name": "stdout",
     "output_type": "stream",
     "text": [
      "+-------+--------------------+\n",
      "|summary|  home_merchant_dist|\n",
      "+-------+--------------------+\n",
      "|  count|             1296675|\n",
      "|   mean|   76.11465060395075|\n",
      "| stddev|  29.116934511278078|\n",
      "|    min|0.022254515638533652|\n",
      "|    max|  152.11717310595034|\n",
      "+-------+--------------------+\n",
      "\n"
     ]
    },
    {
     "name": "stderr",
     "output_type": "stream",
     "text": [
      "                                                                                "
     ]
    }
   ],
   "source": [
    "df.select(\"home_merchant_dist\").describe().show()"
   ]
  },
  {
   "cell_type": "code",
   "execution_count": 7,
   "id": "eed8e15c-4133-49e3-accc-d7ea92439580",
   "metadata": {},
   "outputs": [],
   "source": [
    "from pyspark.sql.functions import hour, dayofweek, month, to_timestamp\n",
    "\n",
    "df = df.withColumn(\"trans_timestamp\", to_timestamp(\"trans_date_trans_time\"))\n",
    "df = df.withColumn(\"transaction_hour\", hour(\"trans_timestamp\"))\n",
    "df = df.withColumn(\"transaction_dayofweek\", dayofweek(\"trans_timestamp\"))\n",
    "df = df.withColumn(\"transaction_month\", month(\"trans_timestamp\"))\n"
   ]
  },
  {
   "cell_type": "code",
   "execution_count": 8,
   "id": "5964fa8f-ed89-4771-9fc6-9bd46f7c02f2",
   "metadata": {},
   "outputs": [
    {
     "name": "stderr",
     "output_type": "stream",
     "text": [
      "25/04/13 22:30:54 WARN SparkStringUtils: Truncated the string representation of a plan since it was too large. This behavior can be adjusted by setting 'spark.sql.debug.maxToStringFields'.\n"
     ]
    },
    {
     "name": "stdout",
     "output_type": "stream",
     "text": [
      "+----------+---------------------+----------------+----------------------------------+-------------+------+---------+-------+------+----------------------------+--------------+-----+-----+-------+---------+--------+---------------------------------+----------+--------------------------------+----------+------------------+-----------+--------+-------------+------------------+-------------------+----------------+---------------------+-----------------+\n",
      "|Unnamed: 0|trans_date_trans_time|cc_num          |merchant                          |category     |amt   |first    |last   |gender|street                      |city          |state|zip  |lat    |long     |city_pop|job                              |dob       |trans_num                       |unix_time |merch_lat         |merch_long |is_fraud|merch_zipcode|home_merchant_dist|trans_timestamp    |transaction_hour|transaction_dayofweek|transaction_month|\n",
      "+----------+---------------------+----------------+----------------------------------+-------------+------+---------+-------+------+----------------------------+--------------+-----+-----+-------+---------+--------+---------------------------------+----------+--------------------------------+----------+------------------+-----------+--------+-------------+------------------+-------------------+----------------+---------------------+-----------------+\n",
      "|0         |2019-01-01 00:00:18  |2703186189652095|fraud_Rippin, Kub and Mann        |misc_net     |4.97  |Jennifer |Banks  |F     |561 Perry Cove              |Moravian Falls|NC   |28654|36.0788|-81.1781 |3495    |Psychologist, counselling        |1988-03-09|0b242abb623afc578575680df30655b9|1325376018|36.011293         |-82.048315 |0       |28705        |78.59756848823062 |2019-01-01 00:00:18|0               |3                    |1                |\n",
      "|1         |2019-01-01 00:00:44  |630423337322    |fraud_Heller, Gutmann and Zieme   |grocery_pos  |107.23|Stephanie|Gill   |F     |43039 Riley Greens Suite 393|Orient        |WA   |99160|48.8878|-118.2105|149     |Special educational needs teacher|1978-06-21|1f76529f8574734946361c461b024d99|1325376044|49.159046999999994|-118.186462|0       |NULL         |30.212175719210443|2019-01-01 00:00:44|0               |3                    |1                |\n",
      "|2         |2019-01-01 00:00:51  |38859492057661  |fraud_Lind-Buckridge              |entertainment|220.11|Edward   |Sanchez|M     |594 White Dale Suite 530    |Malad City    |ID   |83252|42.1808|-112.262 |4154    |Nature conservation officer      |1962-01-19|a1a22d70485983eac12b5b88dad1cf95|1325376051|43.150704         |-112.154481|0       |83236        |108.20608258720068|2019-01-01 00:00:51|0               |3                    |1                |\n",
      "|3         |2019-01-01 00:01:16  |3534093764340240|fraud_Kutch, Hermiston and Farrell|gas_transport|45.0  |Jeremy   |White  |M     |9443 Cynthia Court Apt. 038 |Boulder       |MT   |59632|46.2306|-112.1138|1939    |Patent attorney                  |1967-01-12|6b849c168bdad6f867558c3793159a81|1325376076|47.034331         |-112.561071|0       |NULL         |95.67323113819748 |2019-01-01 00:01:16|0               |3                    |1                |\n",
      "|4         |2019-01-01 00:03:06  |375534208663984 |fraud_Keeling-Crist               |misc_pos     |41.96 |Tyler    |Garcia |M     |408 Bradley Rest            |Doe Hill      |VA   |24433|38.4207|-79.4629 |99      |Dance movement psychotherapist   |1986-03-28|a41d7549acf90789359a9aa5346dcb46|1325376186|38.674999         |-78.632459 |0       |22844        |77.5567436258178  |2019-01-01 00:03:06|0               |3                    |1                |\n",
      "+----------+---------------------+----------------+----------------------------------+-------------+------+---------+-------+------+----------------------------+--------------+-----+-----+-------+---------+--------+---------------------------------+----------+--------------------------------+----------+------------------+-----------+--------+-------------+------------------+-------------------+----------------+---------------------+-----------------+\n",
      "only showing top 5 rows\n",
      "\n"
     ]
    }
   ],
   "source": [
    "df.show(5, truncate=False)"
   ]
  },
  {
   "cell_type": "code",
   "execution_count": 9,
   "id": "1d6d93c8-9df3-4cbd-a4ee-6ddb115fc4d4",
   "metadata": {},
   "outputs": [],
   "source": [
    "# Clear missing values\n",
    "df_cleaned = df.dropna()\n",
    "\n"
   ]
  },
  {
   "cell_type": "code",
   "execution_count": 10,
   "id": "ae5cd390-262a-4fbd-acb4-bb943d8ff1e7",
   "metadata": {},
   "outputs": [
    {
     "name": "stdout",
     "output_type": "stream",
     "text": [
      "Original DataFrame count: 1296675\n"
     ]
    },
    {
     "name": "stderr",
     "output_type": "stream",
     "text": [
      "[Stage 9:>                                                          (0 + 4) / 4]"
     ]
    },
    {
     "name": "stdout",
     "output_type": "stream",
     "text": [
      "Cleaned DataFrame count: 1100702\n"
     ]
    },
    {
     "name": "stderr",
     "output_type": "stream",
     "text": [
      "                                                                                "
     ]
    }
   ],
   "source": [
    "print(f\"Original DataFrame count: {df.count()}\")\n",
    "print(f\"Cleaned DataFrame count: {df_cleaned.count()}\")\n"
   ]
  },
  {
   "cell_type": "code",
   "execution_count": 11,
   "id": "e256c38a-8421-420a-9b8b-2694f90effe2",
   "metadata": {},
   "outputs": [
    {
     "name": "stderr",
     "output_type": "stream",
     "text": [
      "                                                                                "
     ]
    },
    {
     "name": "stdout",
     "output_type": "stream",
     "text": [
      "+----------+---------------------+-------------------+--------------------+-------------+-------+--------+--------+------+--------------------+----------------+-----+-----+-------+---------+--------+--------------------+----------+--------------------+----------+------------------+-----------+--------+-------------+------------------+-------------------+----------------+---------------------+-----------------+\n",
      "|Unnamed: 0|trans_date_trans_time|             cc_num|            merchant|     category|    amt|   first|    last|gender|              street|            city|state|  zip|    lat|     long|city_pop|                 job|       dob|           trans_num| unix_time|         merch_lat| merch_long|is_fraud|merch_zipcode|home_merchant_dist|    trans_timestamp|transaction_hour|transaction_dayofweek|transaction_month|\n",
      "+----------+---------------------+-------------------+--------------------+-------------+-------+--------+--------+------+--------------------+----------------+-----+-----+-------+---------+--------+--------------------+----------+--------------------+----------+------------------+-----------+--------+-------------+------------------+-------------------+----------------+---------------------+-----------------+\n",
      "|    580490|  2019-09-02 19:03:35|   6011438889172900|fraud_Torphy-Goyette| shopping_pos|   6.14| Allison|   Allen|     F| 40624 Rebecca Spurs|         De Witt|   AR|72042|34.2853| -91.3336|    5161| Electrical engineer|1993-04-08|c4dc107639d6afa0f...|1346612615|34.263414000000004| -91.013083|       0|        72048|29.551381005666922|2019-09-02 19:03:35|              19|                    2|                9|\n",
      "|   1047927|  2020-03-10 12:12:58|4092452671396169678|fraud_Gleason and...|    kids_pets|  43.27| Jeffrey|  Vargas|     M|478 Alexandria Mount|          Bolton|   NC|28423|34.3091| -78.3372|    2290|Engineer, biomedical|1945-12-07|1773a7d391fd04270...|1362917578|         34.099743| -78.099611|       0|        28422| 31.92679092014585|2020-03-10 12:12:58|              12|                    3|                3|\n",
      "|    900951|  2019-12-27 05:10:16|      4783226709001|fraud_Roob, Conn ...| shopping_pos|   3.68| Jessica|  Garcia|     F|13108 Jennifer Pa...|      Mc Cracken|   KS|67556|38.5957|  -99.554|     320|   Film/video editor|1961-04-22|00aecd0619be3623f...|1356585016|         39.397662|-100.128617|       0|        67650| 102.0675193478968|2019-12-27 05:10:16|               5|                    6|               12|\n",
      "|    376304|  2019-06-22 22:51:28|   3567527758368741|  fraud_Bailey-Morar|  grocery_pos| 335.97|  Amanda|   Vance|     F|14601 Downs Skywa...|   Sterling City|   TX|76951|31.8351|-101.0017|    1143|Scientist, biomed...|1962-03-19|294068c1372278c1f...|1340405488|         32.203628|-100.303645|       1|        79537| 77.52657587708113|2019-06-22 22:51:28|              22|                    7|                6|\n",
      "|    903977|  2019-12-27 23:48:07|    180068353086472|  fraud_Lynch-Wisozk|         home| 296.61| Melissa|  Flores|     F|7529 Carter Well ...|Huntington Beach|   CA|92648|33.6773|-118.0051|  190249|Therapist, hortic...|1976-09-17|cf2de31b6708966d8...|1356652087|         34.265984|  -117.4831|       1|        92358| 81.25212886864158|2019-12-27 23:48:07|              23|                    6|               12|\n",
      "|    150623|  2019-03-22 13:59:35|   6011679934075347|fraud_Little, Gut...| shopping_net|   5.98|Jennifer|Gonzalez|     F|     5517 Stacy Land|            Jelm|   WY|82063|41.0539|-106.0763|     100|    Public librarian|1974-04-16|b8c00d33e4b5f9cbc...|1332424775|         41.004399|-105.175243|       0|        82052| 75.78295400629179|2019-03-22 13:59:35|              13|                    6|                3|\n",
      "|    186969|  2019-04-07 09:16:11|   4998109455173950|     fraud_Kuhic Inc|  grocery_pos|  193.1|    Mary|  Pruitt|     F|2819 Luke Greens ...|     Kansas City|   MO|64114|38.9621| -94.5959|  545147|          Counsellor|1987-11-18|dcd636780a5997e24...|1333790171|         39.417757| -94.127119|       0|        64084| 64.80199329304413|2019-04-07 09:16:11|               9|                    1|                4|\n",
      "|    373336|  2019-06-22 01:07:25|   3567527758368741|fraud_Christianse...|gas_transport|  18.66|  Amanda|   Vance|     F|14601 Downs Skywa...|   Sterling City|   TX|76951|31.8351|-101.0017|    1143|Scientist, biomed...|1962-03-19|13ab9018ee885d67b...|1340327245|         31.748795|-100.572254|       1|        76901| 41.70686516321806|2019-06-22 01:07:25|               1|                    7|                6|\n",
      "|      4744|  2019-01-03 23:44:42|    340187018810220|fraud_Moen, Reing...|  grocery_pos| 274.09|   Misty|    Hart|     F|27954 Hall Mill S...|     San Antonio|   TX|78208|  29.44|  -98.459| 1595797|Horticultural con...|1960-10-28|fdae36d3824101b50...|1325634282|         29.789989| -97.996197|       1|        78666| 59.29647217663454|2019-01-03 23:44:42|              23|                    5|                1|\n",
      "|    770554|  2019-11-25 17:40:14|     38580485618059|fraud_Hahn, Dougl...|       travel|   6.14|  Teresa|   Clark|     F|  1323 Derek Mission|          Noonan|   ND|58765|48.8856|-103.0098|     248|Industrial/produc...|1968-05-13|9cf48c770d63b00f6...|1353865214|         48.452723|-102.914364|       0|        58852|48.641234607131814|2019-11-25 17:40:14|              17|                    2|               11|\n",
      "|    689160|  2019-10-20 23:25:05|   4025612008285111|    fraud_Klocko LLC|     misc_net|  811.8| Krystal|     Key|     F|23142 Montoya Isl...|         Corsica|   PA|15829|41.1762| -79.1976|    1274|Maintenance engineer|1949-03-20|3091e5a1b68ea0b19...|1350775505|40.809278000000006| -79.262309|       1|        16249|41.159738489815894|2019-10-20 23:25:05|              23|                    1|               10|\n",
      "|     98547|  2019-02-27 10:13:57|    213186880359195|fraud_Watsica, Ha...| shopping_pos| 119.71|   Craig|  Franco|     M|9242 Vanessa Ramp...|      Smithfield|   IL|61477|40.4855| -90.2856|     631|      Futures trader|1973-02-14|f21f3d29cec0c3d1a...|1330337637|         40.802986| -90.639553|       0|        61473| 46.23966663115946|2019-02-27 10:13:57|              10|                    4|                2|\n",
      "|    474706|  2019-07-27 23:58:10|   3577663406369449|fraud_Langworth, ...| shopping_net| 902.95|    Cody|  Hooper|     M|     7233 John Parks|         Lepanto|   AR|72354|35.6069| -90.3359|    2470|Counselling psych...|1968-10-06|42c247e8b778031cc...|1343433490|35.616535999999996| -89.688226|       1|        38019| 58.55906398108122|2019-07-27 23:58:10|              23|                    7|                7|\n",
      "|    933906|  2020-01-06 06:50:21|   2348245054386329|fraud_Vandervort-...|  grocery_pos| 101.43|  Justin|     Gay|     M|268 Hayes Rue Sui...|     Harborcreek|   PA|16421|42.1767| -79.9416|    2518|     Event organiser|1946-02-02|621eb0f6cef0c704a...|1357455021|         41.899694| -79.317934|       0|        16371|60.012338933443964|2020-01-06 06:50:21|               6|                    2|                1|\n",
      "|    882123|  2019-12-22 16:08:19|   3576431665303017|fraud_Botsford an...|         home|  45.84| Jessica|    Ward|     F|72269 Elizabeth F...|         Phoenix|   AZ|85020|33.5623|-112.0559| 1312922|          Contractor|1981-10-24|7133aa7440afab1d5...|1356192499|         33.513084|-112.623017|       0|        85396| 52.84642993879659|2019-12-22 16:08:19|              16|                    1|               12|\n",
      "|     83751|  2019-02-18 22:32:29|   4155021259183870|  fraud_Mayert Group| shopping_pos|   6.12|   Renee| Parrish|     F|174 Jennifer Mead...|   Mountain Park|   OK|73559|34.7032| -98.9591|     540|Research scientis...|1983-10-12|9268b871fe136e23e...|1329604349|         34.277932| -99.741706|       0|        79252|  85.9099799936316|2019-02-18 22:32:29|              22|                    2|                2|\n",
      "|    305250|  2019-05-27 23:22:09|   2242542703101233|  fraud_Hudson-Grady| shopping_pos|1221.91|  Samuel| Jenkins|     M|43235 Mckenzie Vi...|        Westport|   KY|40077|38.4921| -85.4524|     564| Pensions consultant|1996-04-10|b6b7538b117d5ffff...|1338160929|         37.898578| -86.413167|       1|        40176|106.79258146191779|2019-05-27 23:22:09|              23|                    2|                5|\n",
      "|    370435|  2019-06-20 20:40:33|   2305336922781618|fraud_Bogisich-We...|    kids_pets| 173.45| Jeffrey|    Rice|     M| 21447 Powell Circle|         Moulton|   IA|52572|40.6866| -92.6833|    1132|   Probation officer|1961-02-14|1952081423ffe40db...|1340224833|         40.857911| -92.228149|       0|        52588|42.800487560160725|2019-06-20 20:40:33|              20|                    5|                6|\n",
      "|   1268423|  2020-06-10 22:19:06|   4914700582394237|fraud_Kerluke, Ke...|     misc_net| 717.09|    John|Williams|     M|8929 Phillips Cor...|         Harmony|   PA|16037|40.8496| -80.1381|    4589|          Bookseller|1956-05-01|15ea2a7b7d436d456...|1370902746|         41.051424| -79.329937|       1|        16224| 71.48546946766051|2020-06-10 22:19:06|              22|                    4|                6|\n",
      "|     95583|  2019-02-25 22:15:38|    213195754007681|fraud_Fisher-Scho...| shopping_net| 940.76| Zachary|   Allen|     M|69252 Oconnor All...|           Ollie|   IA|52576|41.2001| -92.1354|     568|Commercial hortic...|1969-07-24|a209d771f596459df...|1330208138|          40.84321| -91.731005|       1|        52630| 52.20902316977623|2019-02-25 22:15:38|              22|                    2|                2|\n",
      "+----------+---------------------+-------------------+--------------------+-------------+-------+--------+--------+------+--------------------+----------------+-----+-----+-------+---------+--------+--------------------+----------+--------------------+----------+------------------+-----------+--------+-------------+------------------+-------------------+----------------+---------------------+-----------------+\n",
      "only showing top 20 rows\n",
      "\n"
     ]
    },
    {
     "name": "stderr",
     "output_type": "stream",
     "text": [
      "                                                                                "
     ]
    },
    {
     "name": "stdout",
     "output_type": "stream",
     "text": [
      "Balanced DataFrame count: 12553\n"
     ]
    }
   ],
   "source": [
    "from pyspark.sql.functions import col, rand\n",
    "\n",
    "# Separate the fraud and legit DataFrames\n",
    "df_fraud = df_cleaned.filter(col('is_fraud') == 1)\n",
    "df_legit = df_cleaned.filter(col('is_fraud') == 0)\n",
    "\n",
    "# Calculate the fraction for downsampling\n",
    "fraction = df_fraud.count() / df_legit.count()\n",
    "\n",
    "# Downsample the legit class to match the fraud class size\n",
    "df_legit_downsampled = df_legit.sample(fraction=fraction, seed=101)\n",
    "\n",
    "# Union the fraud and downsampled legit DataFrames\n",
    "df_balanced = df_fraud.union(df_legit_downsampled)\n",
    "\n",
    "# Shuffle the balanced DataFrame by adding a random column and sorting by it\n",
    "df_balanced = df_balanced.withColumn(\"rand_col\", rand())  # Add a random column\n",
    "df_balanced = df_balanced.orderBy(\"rand_col\")  # Shuffle the rows based on the random column\n",
    "\n",
    "# Drop the random column after shuffling\n",
    "df_balanced = df_balanced.drop(\"rand_col\")\n",
    "\n",
    "# Show the shuffled balanced dataframe\n",
    "df_balanced.show()\n",
    "\n",
    "# Optionally, get the count of the balanced DataFrame\n",
    "print(f\"Balanced DataFrame count: {df_balanced.count()}\")"
   ]
  },
  {
   "cell_type": "code",
   "execution_count": 12,
   "id": "6871b197-7cad-42b4-bfb9-8d507cfbdad9",
   "metadata": {},
   "outputs": [],
   "source": [
    "import seaborn as sns\n",
    "import matplotlib.pyplot as plt"
   ]
  },
  {
   "cell_type": "code",
   "execution_count": 13,
   "id": "548df39f-48fa-4de5-aca0-c2417887b320",
   "metadata": {},
   "outputs": [
    {
     "name": "stderr",
     "output_type": "stream",
     "text": [
      "                                                                                "
     ]
    }
   ],
   "source": [
    "df = df_balanced.toPandas()"
   ]
  },
  {
   "cell_type": "code",
   "execution_count": 14,
   "id": "79ee206c-2a32-426c-b5d3-3d8a34ff7947",
   "metadata": {},
   "outputs": [
    {
     "data": {
      "text/plain": [
       "<Axes: xlabel='is_fraud', ylabel='count'>"
      ]
     },
     "execution_count": 14,
     "metadata": {},
     "output_type": "execute_result"
    },
    {
     "data": {
      "image/png": "[encoded data removed]",
      "text/plain": [
       "<Figure size 640x480 with 1 Axes>"
      ]
     },
     "metadata": {},
     "output_type": "display_data"
    }
   ],
   "source": [
    "sns.countplot(x='is_fraud', data=df)"
   ]
  }
 ],
 "metadata": {
  "kernelspec": {
   "display_name": "Python 3 (ipykernel)",
   "language": "python",
   "name": "python3"
  },
  "language_info": {
   "codemirror_mode": {
    "name": "ipython",
    "version": 3
   },
   "file_extension": ".py",
   "mimetype": "text/x-python",
   "name": "python",
   "nbconvert_exporter": "python",
   "pygments_lexer": "ipython3",
   "version": "3.8.10"
  }
 },
 "nbformat": 4,
 "nbformat_minor": 5
}
